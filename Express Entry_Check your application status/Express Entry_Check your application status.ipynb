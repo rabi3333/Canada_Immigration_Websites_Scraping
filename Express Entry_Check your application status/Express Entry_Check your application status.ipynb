{
 "cells": [
  {
   "attachments": {},
   "cell_type": "markdown",
   "metadata": {},
   "source": [
    "# Scraping Express Entry_Check your application status: https://www.canada.ca/en/immigration-refugees-citizenship/services/immigrate-canada/express-entry/apply-permanent-residence/check-your-status.html"
   ]
  },
  {
   "cell_type": "code",
   "execution_count": 26,
   "metadata": {},
   "outputs": [],
   "source": [
    "#importing libraries\n",
    "import os\n",
    "import requests\n",
    "from bs4 import BeautifulSoup\n",
    "import json\n",
    "from datetime import datetime\n",
    "import re"
   ]
  },
  {
   "cell_type": "code",
   "execution_count": 27,
   "metadata": {},
   "outputs": [
    {
     "name": "stdout",
     "output_type": "stream",
     "text": [
      "200\n"
     ]
    }
   ],
   "source": [
    "new_headers = {\n",
    "    \"Accept\": \"text/html,application/xhtml+xml,application/xml;q=0.9,image/avif,image/webp,image/apng,*/*;q=0.8,application/signed-exchange;v=b3;q=0.7\",\n",
    "    \"Accept-Encoding\": \"gzip, deflate\",\n",
    "    \"Accept-Language\": \"es-ES,es;q=0.9,en;q=0.8\",\n",
    "    \"Upgrade-Insecure-Requests\": \"1\",\n",
    "    \"User-Agent\": \"Mozilla/5.0 (Windows NT 10.0; Win64; x64) AppleWebKit/537.36 (KHTML, like Gecko) Chrome/112.0.0.0 Safari/537.36\"\n",
    "    }\n",
    "\n",
    "url = \"https://www.canada.ca/en/immigration-refugees-citizenship/services/immigrate-canada/express-entry/apply-permanent-residence/check-your-status.html\"\n",
    "\n",
    "response = requests.get(url, headers=new_headers)\n",
    "print(response.status_code)\n",
    "soup = BeautifulSoup(response.text, 'lxml')\n"
   ]
  },
  {
   "cell_type": "code",
   "execution_count": 28,
   "metadata": {},
   "outputs": [
    {
     "name": "stdout",
     "output_type": "stream",
     "text": [
      "[<h2>Check your application status online</h2>, <p><strong>Starting February 8, 2023</strong>, use the <a href=\"https://ircc-tracker-suivi.apps.cic.gc.ca/en\" target=\"_blank\">application status tracker<span class=\"wb-inv\">(opens in a new tab)</span></a> <span aria-hidden=\"true\" class=\"glyphicon glyphicon-new-window\"></span> to get the most up-to-date and detailed information about the status of your application.</p>, <p>You have <strong>60 days</strong> after you’ve been invited to apply to submit your application for permanent residence.</p>, <p>Once you have submitted your application, you can check its status in <a href=\"/en/immigration-refugees-citizenship/services/application/account.html\">your account</a>.</p>, <ul>\n",
      "<li>Go to “View the applications you submitted”</li>\n",
      "<li>Click “Application status and messages”</li>\n",
      "</ul>, <p>On the “Application status and messages” page, you’re able to see</p>, <ul>\n",
      "<li>the overall status of your application</li>\n",
      "<li>the current status of each application step</li>\n",
      "<li>messages with additional steps to take, if required</li>\n",
      "</ul>, <p>If you need to make updates to your account, we’ll send you an email. Make sure you complete the requested updates as soon as possible, or the processing of your application could be delayed.</p>, <h2>Processing times</h2>, <p>We process most Express Entry applications within 6 months or less of getting your complete application.</p>, <p>You may need to <a href=\"https://ircc.canada.ca/english/visit/biometrics.asp\">give your biometrics</a> with your application. This processing time <strong>includes</strong> the time you need to give your biometrics.</p>, <p>Processing times will vary based on:</p>, <ul>\n",
      "<li>the type of application submitted</li>\n",
      "<li>if the application is complete</li>\n",
      "<li>how quickly we expect to process applications we’ve already received</li>\n",
      "<li>how easily we can verify your information</li>\n",
      "<li>how long you take to respond to any requests or concerns</li>\n",
      "<li>other factors</li>\n",
      "</ul>, <p>More people want to immigrate to Canada than we can bring in each year. Applications received after we meet our yearly limit may have to wait longer to be processed.</p>, <p>Learn how processing times are <a href=\"http://ircc.canada.ca/english/helpcentre/answer.asp?qnum=068&amp;top=3\">calculated</a>.</p>, <h3>Causes of processing delays</h3>, <p>Your application will be delayed if</p>, <ul>\n",
      "<li>we need to verify information</li>\n",
      "<li>there are criminal or security problems</li>\n",
      "<li>we need to do more background checks</li>\n",
      "<li>your family situation isn't clear, for example,\n",
      "        <ul>\n",
      "<li>a divorce or an adoption that isn't yet complete</li>\n",
      "<li>child custody issues that haven't been resolved</li>\n",
      "</ul>\n",
      "</li>\n",
      "<li>you need to submit more documents or have an interview with us</li>\n",
      "</ul>, <ul>\n",
      "<li>a divorce or an adoption that isn't yet complete</li>\n",
      "<li>child custody issues that haven't been resolved</li>\n",
      "</ul>, <h3>Keep your information up to date</h3>, <p>Avoid delays by updating your information. You can use the <a href=\"https://ircc.canada.ca/english/contacts/web-form.asp\">IRCC web form</a> if you need to report important changes about your application, such as</p>, <ul>\n",
      "<li>changes of mailing or email address, telephone number or other contact information</li>\n",
      "<li>births or deaths in your family</li>\n",
      "<li>marriages</li>\n",
      "<li>divorces</li>\n",
      "<li>adoptions</li>\n",
      "<li>changes to your job or job offer</li>\n",
      "<li>new educational credentials</li>\n",
      "<li>updated language test results</li>\n",
      "</ul>]\n"
     ]
    }
   ],
   "source": [
    "section = soup.find_all('div', class_='mwsgeneric-base-html parbase section')\n",
    "tags = section[1].find_all(['h2', 'h3', 'p', 'ul'], class_= '')\n",
    "print(tags)"
   ]
  },
  {
   "cell_type": "code",
   "execution_count": 30,
   "metadata": {},
   "outputs": [],
   "source": [
    "text_data = []\n",
    "between_h2_tags = 0\n",
    "between_h3_tags = 0\n",
    "for tag in tags:\n",
    "    if tag.name == 'h2':\n",
    "        if tag.text == 'Check your application status online':\n",
    "            between_h2_tags = 1\n",
    "            text_data.append({\n",
    "                'subheading' : tag.text,\n",
    "                'content' : ''\n",
    "            })\n",
    "        elif tag.text == 'Processing times':\n",
    "            between_h2_tags = 2\n",
    "            text_data.append({\n",
    "                'subheading' : tag.text,\n",
    "                'content' : ''\n",
    "            })\n",
    "        else:\n",
    "            break\n",
    "    elif tag.name == 'h3':\n",
    "        if tag.text == 'Causes of processing delays':\n",
    "            between_h3_tags = 1\n",
    "            between_h2_tags = 0\n",
    "            text_data.append({\n",
    "                'subheading' : tag.text,\n",
    "                'content' : ''\n",
    "            })\n",
    "        elif tag.text == 'Keep your information up to date':\n",
    "            between_h3_tags = 2\n",
    "            between_h2_tags = 0\n",
    "            text_data.append({\n",
    "                'subheading' : tag.text,\n",
    "                'content' : ''\n",
    "            })\n",
    "    elif tag.name == 'p' or tag.name == 'ul':\n",
    "        if between_h2_tags == 1:\n",
    "            text_data[0]['content'] += tag.text\n",
    "        elif between_h2_tags == 2:\n",
    "            text_data[1]['content'] += tag.text\n",
    "        elif between_h3_tags == 1:\n",
    "            text_data[2]['content'] += tag.text\n",
    "        elif between_h3_tags == 2:\n",
    "            text_data[3]['content'] += tag.text\n",
    "\n",
    "#get current directory\n",
    "current_directory = os.getcwd()\n",
    "\n",
    "# make output directory if not exist\n",
    "output_directory = os.path.join(current_directory, \"Output\")\n",
    "os.makedirs(output_directory, exist_ok=True)\n",
    "\n",
    "json_data = {\n",
    "    \"Title\": \"Express Entry: Check your application status\",\n",
    "    \"Source(link)\": f\"{url}\",\n",
    "    \"Date\": datetime.now().strftime('%Y-%m-%d %H:%M:%S'),\n",
    "    \"subheadings\": text_data\n",
    "}\n",
    "\n",
    "json_file_path = os.path.join(output_directory, f'Express Entry Check your application status.json')\n",
    "\n",
    "with open(json_file_path, 'w', encoding='utf-8') as json_file:\n",
    "    json.dump(json_data, json_file, indent=4)"
   ]
  }
 ],
 "metadata": {
  "kernelspec": {
   "display_name": "base",
   "language": "python",
   "name": "python3"
  },
  "language_info": {
   "codemirror_mode": {
    "name": "ipython",
    "version": 3
   },
   "file_extension": ".py",
   "mimetype": "text/x-python",
   "name": "python",
   "nbconvert_exporter": "python",
   "pygments_lexer": "ipython3",
   "version": "3.10.9"
  },
  "orig_nbformat": 4
 },
 "nbformat": 4,
 "nbformat_minor": 2
}

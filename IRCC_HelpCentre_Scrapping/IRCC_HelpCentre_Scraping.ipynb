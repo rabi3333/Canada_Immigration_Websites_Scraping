{
 "cells": [
  {
   "cell_type": "code",
   "execution_count": 1,
   "metadata": {},
   "outputs": [],
   "source": [
    "#importing libraries\n",
    "import os\n",
    "import requests\n",
    "from bs4 import BeautifulSoup\n",
    "import json\n",
    "from datetime import datetime\n",
    "import re"
   ]
  },
  {
   "cell_type": "code",
   "execution_count": 2,
   "metadata": {},
   "outputs": [],
   "source": [
    "#get current directory\n",
    "current_directory = os.getcwd()\n",
    "\n",
    "# make output directory if not exist\n",
    "output_directory = os.path.join(current_directory, \"Output\")\n",
    "os.makedirs(output_directory, exist_ok=True)\n",
    "\n",
    "url = \"https://www.cic.gc.ca/english/helpcentre/index-a-z-can.asp\"\n",
    "\n",
    "response = requests.get(url)\n",
    "soup = BeautifulSoup(response.text, 'lxml')"
   ]
  },
  {
   "cell_type": "code",
   "execution_count": 4,
   "metadata": {},
   "outputs": [
    {
     "name": "stdout",
     "output_type": "stream",
     "text": [
      "['Access to Information and Privacy', 'Adoption', 'Application status'] ['https://www.cic.gc.ca/english/helpcentre/results-by-topic.asp?top=1', 'https://www.cic.gc.ca/english/helpcentre/results-by-topic.asp?top=2', 'https://www.cic.gc.ca/english/helpcentre/results-by-topic.asp?top=3']\n"
     ]
    }
   ],
   "source": [
    "#scraping the front page\n",
    "section = soup.find(\"section\", class_=\"container\")\n",
    "h2_elements = section.find_all('h2')\n",
    "links = []\n",
    "link_titles = []\n",
    "for h2_element in h2_elements:\n",
    "    a_element = h2_element.find('a')\n",
    "    if a_element:\n",
    "        link_title = a_element.text\n",
    "        link_titles.append(link_title)\n",
    "        link = a_element['href']\n",
    "        links.append(f\"https://www.cic.gc.ca/english/helpcentre/{link}\")\n",
    "print(link_titles[:3], links[:3])"
   ]
  },
  {
   "cell_type": "code",
   "execution_count": null,
   "metadata": {},
   "outputs": [],
   "source": [
    "#scraping the subpages\n",
    "sublinks = []\n",
    "sublink_titles = []\n",
    "for link in links:\n",
    "    response = requests.get(link)\n",
    "    print(response.status_code)\n",
    "    try:\n",
    "        soup = BeautifulSoup(response.text, 'lxml')\n",
    "        section = soup.find_all('div', class_='clearfix')\n",
    "        a_elements = section[1].find_all('a')\n",
    "        for a_element in a_elements:\n",
    "            if a_element:\n",
    "                sublink = a_element['href']\n",
    "                sublink_title = a_element.text\n",
    "                sanitized_title = re.sub(r'[<>:\"/\\\\|?*]', '_', sublink_title)\n",
    "                sublinks.append(f\"https://www.cic.gc.ca/english/helpcentre/{sublink}\")\n",
    "                sublink_titles.append(sublink_title)\n",
    "                print(sublink_title)\n",
    "\n",
    "            sub_response = requests.get(sublink)\n",
    "            sub_soup = BeautifulSoup(sub_response.text, 'lxml')\n",
    "            sub_section = sub_soup.find('div', itemprop='text')\n",
    "            if sub_section:\n",
    "                text_data = sub_section.text\n",
    "                json_data = {\n",
    "                    'Title' : sublink_title,\n",
    "                    'Source' : f\"https://www.cic.gc.ca/english/helpcentre/{sublink}\",\n",
    "                    'Content' : text_data,\n",
    "                    'DateOfScrapping' : datetime.now().strftime('%Y-%m-%d %H:%M:%S')\n",
    "                }\n",
    "\n",
    "                try:\n",
    "\n",
    "                    txt_file_path = os.path.join(output_directory, f'{sanitized_title}.txt')\n",
    "                    json_file_path = os.path.join(output_directory, f'{sanitized_title}.json')\n",
    "\n",
    "                    with open(txt_file_path, 'w', encoding='utf-8') as txt_file:\n",
    "                        txt_file.write(text_data)\n",
    "\n",
    "                    with open(json_file_path, 'w', encoding='utf-8') as json_file:\n",
    "                        json.dump(json_data, json_file, indent=4)\n",
    "                except FileNotFoundError as e:\n",
    "                    print(f\"Error: {e}\")\n",
    "                except Exception as e:\n",
    "                    print(f\"An error occurred: {e}\")\n",
    "    except:\n",
    "        pass\n"
   ]
  }
 ],
 "metadata": {
  "kernelspec": {
   "display_name": "base",
   "language": "python",
   "name": "python3"
  },
  "language_info": {
   "codemirror_mode": {
    "name": "ipython",
    "version": 3
   },
   "file_extension": ".py",
   "mimetype": "text/x-python",
   "name": "python",
   "nbconvert_exporter": "python",
   "pygments_lexer": "ipython3",
   "version": "3.10.9"
  },
  "orig_nbformat": 4
 },
 "nbformat": 4,
 "nbformat_minor": 2
}
